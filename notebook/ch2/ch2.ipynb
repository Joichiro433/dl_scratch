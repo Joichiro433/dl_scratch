{
 "cells": [
  {
   "cell_type": "code",
   "execution_count": 1,
   "metadata": {},
   "outputs": [],
   "source": [
    "from typing import *\n",
    "import os\n",
    "from glob import glob\n",
    "from datetime import datetime\n",
    "\n",
    "import numpy as np\n",
    "import pandas as pd\n",
    "import matplotlib.pyplot as plt\n",
    "import seaborn as sns\n",
    "from nptyping import NDArray\n",
    "from IPython.display import display\n",
    "from rich import print as rprint\n",
    "\n",
    "sns.set_style('whitegrid')\n",
    "colors = ['#de3838', '#007bc3', '#ffd12a']\n",
    "markers = ['o', 'x', ',']\n",
    "%config InlineBackend.figure_formats = ['svg']\n",
    "\n",
    "pd.set_option('display.max_rows', 100)\n",
    "pd.set_option('display.max_columns', 100)\n",
    "pd.set_option('display.width', 100)\n",
    "\n",
    "cmap = sns.diverging_palette(255, 0, as_cmap=True)  # カラーパレットの定義"
   ]
  },
  {
   "cell_type": "markdown",
   "metadata": {},
   "source": [
    "# パーセプトロン"
   ]
  },
  {
   "cell_type": "code",
   "execution_count": 4,
   "metadata": {},
   "outputs": [
    {
     "name": "stdout",
     "output_type": "stream",
     "text": [
      "0\n",
      "0\n",
      "0\n",
      "1\n"
     ]
    }
   ],
   "source": [
    "def and_(x1: int, x2: int) -> int:\n",
    "    w1 : float = 0.5\n",
    "    w2 : float = 0.5\n",
    "    theta : float = 0.7\n",
    "    if x1 * w1 + x2 * w2 <= theta:\n",
    "        return 0\n",
    "    return 1\n",
    "\n",
    "print(and_(x1=0, x2=0))\n",
    "print(and_(x1=1, x2=0))\n",
    "print(and_(x1=0, x2=1))\n",
    "print(and_(x1=1, x2=1))"
   ]
  },
  {
   "cell_type": "code",
   "execution_count": 10,
   "metadata": {},
   "outputs": [
    {
     "name": "stdout",
     "output_type": "stream",
     "text": [
      "(0, 0)\n",
      "and: 0\n",
      "nand: 1\n",
      "or: 0\n",
      "xor: 0\n",
      "\n",
      "(1, 0)\n",
      "and: 0\n",
      "nand: 1\n",
      "or: 1\n",
      "xor: 1\n",
      "\n",
      "(0, 1)\n",
      "and: 0\n",
      "nand: 1\n",
      "or: 1\n",
      "xor: 1\n",
      "\n",
      "(1, 1)\n",
      "and: 1\n",
      "nand: 0\n",
      "or: 1\n",
      "xor: 0\n",
      "\n"
     ]
    }
   ],
   "source": [
    "def and_(x1: int, x2: int) -> int:\n",
    "    x : NDArray[(1, 2), int] = np.array([x1, x2])\n",
    "    w : NDArray[(1, 2), float] = np.array([0.5, 0.5])\n",
    "    b : float = -0.7\n",
    "    if np.sum(w*x) + b <= 0:\n",
    "        return 0\n",
    "    return 1\n",
    "\n",
    "def nand_(x1: int, x2: int) -> int:\n",
    "    x : NDArray[(1, 2), int] = np.array([x1, x2])\n",
    "    w : NDArray[(1, 2), float] = np.array([-0.5, -0.5])\n",
    "    b : float = 0.7\n",
    "    if np.sum(w*x) + b <= 0:\n",
    "        return 0\n",
    "    return 1\n",
    "\n",
    "def or_(x1: int, x2: int) -> int:\n",
    "    x : NDArray[(1, 2), int] = np.array([x1, x2])\n",
    "    w : NDArray[(1, 2), float] = np.array([0.5, 0.5])\n",
    "    b : float = -0.2\n",
    "    if np.sum(w*x) + b <= 0:\n",
    "        return 0\n",
    "    return 1\n",
    "\n",
    "def xor_(x1: int, x2: int) -> int:\n",
    "    s1 : int = nand_(x1, x2)\n",
    "    s2 : int = or_(x1, x2)\n",
    "    y : int = and_(s1, s2)\n",
    "    return y\n",
    "\n",
    "inputs : List[Tuple[int, int]] = [(0, 0), (1, 0), (0, 1), (1, 1)]\n",
    "for input in inputs:\n",
    "    print(input)\n",
    "    print(f'and: {and_(*input)}')\n",
    "    print(f'nand: {nand_(*input)}')\n",
    "    print(f'or: {or_(*input)}')\n",
    "    print(f'xor: {xor_(*input)}')\n",
    "    print()"
   ]
  }
 ],
 "metadata": {
  "interpreter": {
   "hash": "5a99c7edf1f3fc19ed6260f2375e0c2cdc899557941adb6e2ad3639d7cc76672"
  },
  "kernelspec": {
   "display_name": "Python 3.9.7 64-bit ('dl': conda)",
   "language": "python",
   "name": "python3"
  },
  "language_info": {
   "codemirror_mode": {
    "name": "ipython",
    "version": 3
   },
   "file_extension": ".py",
   "mimetype": "text/x-python",
   "name": "python",
   "nbconvert_exporter": "python",
   "pygments_lexer": "ipython3",
   "version": "3.9.7"
  },
  "orig_nbformat": 4
 },
 "nbformat": 4,
 "nbformat_minor": 2
}
